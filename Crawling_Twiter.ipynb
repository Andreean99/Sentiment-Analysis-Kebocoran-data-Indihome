{
  "cells": [
    {
      "cell_type": "markdown",
      "metadata": {
        "id": "EbdOT4fv1elp"
      },
      "source": [
        "# Import Library"
      ]
    },
    {
      "cell_type": "code",
      "execution_count": 1,
      "metadata": {
        "id": "zo0SabrxxAP7"
      },
      "outputs": [],
      "source": [
        "import pandas as pd \n",
        "import tweepy \n",
        "import nltk\n",
        "import re\n",
        "\n",
        "import matplotlib.pyplot as plt\n",
        "import warnings\n",
        "warnings.filterwarnings(\"ignore\")\n",
        "import tensorflow as tf\n",
        "import pandas as pd \n",
        "import numpy as np\n",
        "import seaborn as sns\n",
        "import matplotlib.pyplot as plt \n",
        "import nltk\n",
        "import pandas as pd\n",
        "import matplotlib.pyplot as plt\n",
        "import numpy as np\n",
        "import re\n",
        "from wordcloud import WordCloud"
      ]
    },
    {
      "cell_type": "markdown",
      "metadata": {
        "id": "5nVnFGds1g50"
      },
      "source": [
        "Disini saya Import Library yang akan saya gunakan"
      ]
    },
    {
      "cell_type": "code",
      "execution_count": 2,
      "metadata": {
        "id": "PbaDB9ZTxCCF"
      },
      "outputs": [],
      "source": [
        "consumer_key=''\n",
        "consumer_secret=''\n",
        "\n",
        "access_token=''\n",
        "access_token_secret=''\n",
        "\n",
        "auth=tweepy.OAuthHandler(consumer_key,consumer_secret) #Akses akun twitter\n",
        "auth.set_access_token(access_token,access_token_secret) #Akses twitter general\n",
        "api = tweepy.API(auth,wait_on_rate_limit=True) #Autentikasi twitter API"
      ]
    },
    {
      "cell_type": "markdown",
      "metadata": {
        "id": "7LXj22Cx1jef"
      },
      "source": [
        "Akses Twitter API Token"
      ]
    },
    {
      "cell_type": "code",
      "execution_count": 2,
      "metadata": {
        "id": "ClLs1eV4xfvc"
      },
      "outputs": [],
      "source": [
        "def scrappe(keyword,count,since,until): #Input: kata kunci, jumlah tweet yang diinginkan, tanggal awal, tanggal akhir\n",
        "    text_query=f\"since:{since} until:{until} {keyword}\" #Query search twitter\n",
        "    tweets = tweepy.Cursor(api.search,q=text_query).items(count) #Mencari tweet dengan kata kunci tertentu max seminggu sejak hari ini\n",
        "    tweets_list = [[tweet.created_at, tweet.id, tweet.text, tweet.retweet_count, tweet.favorite_count, tweet.place] for tweet in tweets] #Mengambil parameter yang diperlukan\n",
        "    df_tweet=pd.DataFrame(tweets_list)\n",
        "    df_tweet.columns=['tanggal','id','text','rt','fav','place'] #tanggal: Tanggal tweet dipost, id: id tweet, text: isi tweet, rt: Jumlah retweet, fav: Jumlah favorit/like, coor: Koordinat lokasi\n",
        "    return(df_tweet)\n",
        "\n",
        "def proc_feature(features):\n",
        "    # Remove all the special characters\n",
        "    processed_feature = re.sub(r'\\W', ' ', features)\n",
        "    processed_feature = re.sub(r'\\s+[a-zA-Z]\\s+', ' ', processed_feature)\n",
        "    processed_feature = re.sub(r'\\^[a-zA-Z]\\s+', ' ', processed_feature) \n",
        "    processed_feature = re.sub(r'\\s+', ' ', processed_feature, flags=re.I)\n",
        "    processed_feature = re.sub(r'^b\\s+', '', processed_feature)\n",
        "    processed_feature = processed_feature.lower()  \n",
        "    regrex_pattern = re.compile(pattern = \"[\"\n",
        "        u\"\\U0001F600-\\U0001F64F\"  # emoticons\n",
        "        u\"\\U0001F300-\\U0001F5FF\"  # symbols & pictographs\n",
        "        u\"\\U0001F680-\\U0001F6FF\"  # transport & map symbols\n",
        "        u\"\\U0001F1E0-\\U0001F1FF\"  # flags (iOS)\n",
        "                           \"]+\", flags = re.UNICODE)\n",
        "    processed_feature = regrex_pattern.sub(r'',processed_feature)\n",
        "    processed_feature = re.sub('rt',' ',processed_feature)\n",
        "    processed_feature = re.sub('gak',' ',processed_feature)\n",
        "    processed_feature = re.sub('http',' ',processed_feature)\n",
        "    processed_feature = re.sub('https',' ',processed_feature)\n",
        "    return(processed_feature)"
      ]
    },
    {
      "cell_type": "markdown",
      "metadata": {
        "id": "9MkM2cNc1sXo"
      },
      "source": [
        "Membuat Fungsi untuk scraping tweet dan fungsi text preprocessing"
      ]
    },
    {
      "cell_type": "code",
      "execution_count": null,
      "metadata": {
        "id": "FAlNH1hyxno8"
      },
      "outputs": [],
      "source": [
        "data=scrappe(\"Data Indihome Bocor\",10000,\"2022-08-20\",\"2022-08-24\")\n",
        "data.to_excel('Indihome.xlsx',index=False)"
      ]
    },
    {
      "cell_type": "markdown",
      "metadata": {},
      "source": [
        "Masukan keyword yang akan dipilih"
      ]
    },
    {
      "cell_type": "code",
      "execution_count": 3,
      "metadata": {
        "colab": {
          "base_uri": "https://localhost:8080/",
          "height": 206
        },
        "id": "CReLrg6a1ImJ",
        "outputId": "0b449911-7632-4cfd-ebd5-2bc52f67783a"
      },
      "outputs": [
        {
          "data": {
            "text/html": [
              "<div>\n",
              "<style scoped>\n",
              "    .dataframe tbody tr th:only-of-type {\n",
              "        vertical-align: middle;\n",
              "    }\n",
              "\n",
              "    .dataframe tbody tr th {\n",
              "        vertical-align: top;\n",
              "    }\n",
              "\n",
              "    .dataframe thead th {\n",
              "        text-align: right;\n",
              "    }\n",
              "</style>\n",
              "<table border=\"1\" class=\"dataframe\">\n",
              "  <thead>\n",
              "    <tr style=\"text-align: right;\">\n",
              "      <th></th>\n",
              "      <th>tanggal</th>\n",
              "      <th>id</th>\n",
              "      <th>text</th>\n",
              "      <th>rt</th>\n",
              "      <th>fav</th>\n",
              "      <th>place</th>\n",
              "    </tr>\n",
              "  </thead>\n",
              "  <tbody>\n",
              "    <tr>\n",
              "      <th>0</th>\n",
              "      <td>2022-08-23 23:42:50</td>\n",
              "      <td>1562223870467538944</td>\n",
              "      <td>@hyang_wisnu @kemkominfo @BSSN_RI @PlateJohnny...</td>\n",
              "      <td>0</td>\n",
              "      <td>1</td>\n",
              "      <td>NaN</td>\n",
              "    </tr>\n",
              "    <tr>\n",
              "      <th>1</th>\n",
              "      <td>2022-08-23 23:41:59</td>\n",
              "      <td>1562223659535986944</td>\n",
              "      <td>RT @hyang_wisnu: DATA PLN DAN INDIHOME BOCOR, ...</td>\n",
              "      <td>16</td>\n",
              "      <td>0</td>\n",
              "      <td>NaN</td>\n",
              "    </tr>\n",
              "    <tr>\n",
              "      <th>2</th>\n",
              "      <td>2022-08-23 23:41:31</td>\n",
              "      <td>1562223542468775936</td>\n",
              "      <td>Terkait kebocoran data PLN dan IndiHome bocor,...</td>\n",
              "      <td>0</td>\n",
              "      <td>0</td>\n",
              "      <td>NaN</td>\n",
              "    </tr>\n",
              "    <tr>\n",
              "      <th>3</th>\n",
              "      <td>2022-08-23 22:58:46</td>\n",
              "      <td>1562212781600177920</td>\n",
              "      <td>RT @MMC_IDN2: 26 Juta Data Pribadi Diretas, Ne...</td>\n",
              "      <td>57</td>\n",
              "      <td>0</td>\n",
              "      <td>NaN</td>\n",
              "    </tr>\n",
              "    <tr>\n",
              "      <th>4</th>\n",
              "      <td>2022-08-23 22:57:33</td>\n",
              "      <td>1562212477093289984</td>\n",
              "      <td>RT @republikaonline: Data pribadi pelanggan PT...</td>\n",
              "      <td>2</td>\n",
              "      <td>0</td>\n",
              "      <td>NaN</td>\n",
              "    </tr>\n",
              "  </tbody>\n",
              "</table>\n",
              "</div>"
            ],
            "text/plain": [
              "              tanggal                   id  \\\n",
              "0 2022-08-23 23:42:50  1562223870467538944   \n",
              "1 2022-08-23 23:41:59  1562223659535986944   \n",
              "2 2022-08-23 23:41:31  1562223542468775936   \n",
              "3 2022-08-23 22:58:46  1562212781600177920   \n",
              "4 2022-08-23 22:57:33  1562212477093289984   \n",
              "\n",
              "                                                text  rt  fav place  \n",
              "0  @hyang_wisnu @kemkominfo @BSSN_RI @PlateJohnny...   0    1   NaN  \n",
              "1  RT @hyang_wisnu: DATA PLN DAN INDIHOME BOCOR, ...  16    0   NaN  \n",
              "2  Terkait kebocoran data PLN dan IndiHome bocor,...   0    0   NaN  \n",
              "3  RT @MMC_IDN2: 26 Juta Data Pribadi Diretas, Ne...  57    0   NaN  \n",
              "4  RT @republikaonline: Data pribadi pelanggan PT...   2    0   NaN  "
            ]
          },
          "execution_count": 3,
          "metadata": {},
          "output_type": "execute_result"
        }
      ],
      "source": [
        "data=pd.read_excel('Indihome.xlsx')\n",
        "data.head()"
      ]
    },
    {
      "cell_type": "markdown",
      "metadata": {},
      "source": [
        "Loading data yang telah di scraping untuk dilanjutkan ke proses sentiment skor"
      ]
    },
    {
      "cell_type": "code",
      "execution_count": 4,
      "metadata": {
        "colab": {
          "base_uri": "https://localhost:8080/"
        },
        "id": "EU5oRJTQ1YoZ",
        "outputId": "e10a3aba-98c3-4431-ac47-05e211c8585e"
      },
      "outputs": [
        {
          "name": "stdout",
          "output_type": "stream",
          "text": [
            "<class 'pandas.core.frame.DataFrame'>\n",
            "RangeIndex: 4821 entries, 0 to 4820\n",
            "Data columns (total 6 columns):\n",
            " #   Column   Non-Null Count  Dtype         \n",
            "---  ------   --------------  -----         \n",
            " 0   tanggal  4821 non-null   datetime64[ns]\n",
            " 1   id       4821 non-null   int64         \n",
            " 2   text     4821 non-null   object        \n",
            " 3   rt       4821 non-null   int64         \n",
            " 4   fav      4821 non-null   int64         \n",
            " 5   place    8 non-null      object        \n",
            "dtypes: datetime64[ns](1), int64(3), object(2)\n",
            "memory usage: 226.1+ KB\n"
          ]
        }
      ],
      "source": [
        "data.info()"
      ]
    },
    {
      "cell_type": "markdown",
      "metadata": {},
      "source": [
        "Info data yang telah discraping"
      ]
    },
    {
      "cell_type": "code",
      "execution_count": 5,
      "metadata": {
        "colab": {
          "base_uri": "https://localhost:8080/"
        },
        "id": "-qK5DgET1bEW",
        "outputId": "e6294b34-c12b-498b-e1c5-806fde57ea27"
      },
      "outputs": [
        {
          "name": "stdout",
          "output_type": "stream",
          "text": [
            "@hyang_wisnu @kemkominfo @BSSN_RI @PlateJohnny @jokowi @_pln_id @IndiHome @Aryprasetyo85 @Cahaya_Dfa @zhymme… https://t.co/3SJb0qTEwZ\n"
          ]
        }
      ],
      "source": [
        "print(data.text[0])"
      ]
    },
    {
      "cell_type": "code",
      "execution_count": 5,
      "metadata": {
        "id": "gkRNaxk41diS"
      },
      "outputs": [],
      "source": [
        "#Load data list kata bersentimen negatif\n",
        "neg_file=pd.read_csv('https://github.com/riochr17/Analisis-Sentimen-ID/raw/master/data/negatif.txt',header=None,delimiter='\\t').values\n",
        "neg_file=list(neg_file.reshape(neg_file.shape[0],))\n",
        "\n",
        "#Load data list kata bersentimen positif\n",
        "pst_file=pd.read_csv('https://github.com/riochr17/Analisis-Sentimen-ID/raw/master/data/positif.txt',header=None,delimiter='\\t').values\n",
        "pst_file=list(pst_file.reshape(pst_file.shape[0],))"
      ]
    },
    {
      "cell_type": "markdown",
      "metadata": {},
      "source": [
        "Load data yang berisikan kata positif dan negatif"
      ]
    },
    {
      "cell_type": "code",
      "execution_count": 7,
      "metadata": {
        "id": "AFYR9qZ015o7"
      },
      "outputs": [],
      "source": [
        "#Load data list stopwords bahasa indonesia\n",
        "stp_word=pd.read_csv('https://github.com/stopwords-iso/stopwords-id/raw/master/stopwords-id.txt',header=None).values"
      ]
    },
    {
      "cell_type": "markdown",
      "metadata": {},
      "source": [
        "Load data stopword"
      ]
    },
    {
      "cell_type": "code",
      "execution_count": 7,
      "metadata": {
        "id": "nggS_q0M17U5"
      },
      "outputs": [],
      "source": [
        "data['text']=data['text'].apply(lambda x: proc_feature(x)) #Filter karakter dan kata pada masing-masing data"
      ]
    },
    {
      "cell_type": "code",
      "execution_count": 9,
      "metadata": {
        "id": "ImMStJfL19E9"
      },
      "outputs": [],
      "source": [
        "#Pada bagian ini, dihitung jumlah kata negatif dan positif masing-masing tweet berdasarkan list kata pada neg_file dan pst_file\n",
        "\n",
        "post_words_count=data['text'].apply(lambda x: len([w for w in x.split(' ') if w in pst_file]))\n",
        "neg_words_count=data['text'].apply(lambda x: len([w for w in x.split(' ') if w in neg_file]))"
      ]
    },
    {
      "cell_type": "markdown",
      "metadata": {},
      "source": [
        "Menghitung kata negatif dan positif"
      ]
    },
    {
      "cell_type": "code",
      "execution_count": 10,
      "metadata": {
        "id": "RzJw7o1B1_8x"
      },
      "outputs": [],
      "source": [
        "#Menghitung skor sentimen, selisih jml kata positif dan negatif\n",
        "data['sent_score']=(post_words_count-neg_words_count)\n",
        "#Memberi sign utk selisih <0 -1, >0 1, dan =0 0\n",
        "data['sentiment']=data['sent_score'].apply(lambda x: 1 if x>0 else -1 if x<0 else 0)"
      ]
    },
    {
      "cell_type": "markdown",
      "metadata": {},
      "source": [
        "Menghitung selisih jumlah kata positif dan negatif untuk mendapatkan sentiment skor"
      ]
    },
    {
      "cell_type": "code",
      "execution_count": 11,
      "metadata": {
        "colab": {
          "base_uri": "https://localhost:8080/",
          "height": 641
        },
        "id": "z58Xcyna2CNw",
        "outputId": "785e8fb8-347a-4c1c-955c-f5d6d60ba512"
      },
      "outputs": [
        {
          "data": {
            "text/html": [
              "<div>\n",
              "<style scoped>\n",
              "    .dataframe tbody tr th:only-of-type {\n",
              "        vertical-align: middle;\n",
              "    }\n",
              "\n",
              "    .dataframe tbody tr th {\n",
              "        vertical-align: top;\n",
              "    }\n",
              "\n",
              "    .dataframe thead th {\n",
              "        text-align: right;\n",
              "    }\n",
              "</style>\n",
              "<table border=\"1\" class=\"dataframe\">\n",
              "  <thead>\n",
              "    <tr style=\"text-align: right;\">\n",
              "      <th></th>\n",
              "      <th>tanggal</th>\n",
              "      <th>id</th>\n",
              "      <th>text</th>\n",
              "      <th>rt</th>\n",
              "      <th>fav</th>\n",
              "      <th>place</th>\n",
              "      <th>sent_score</th>\n",
              "      <th>sentiment</th>\n",
              "    </tr>\n",
              "  </thead>\n",
              "  <tbody>\n",
              "    <tr>\n",
              "      <th>0</th>\n",
              "      <td>2022-08-23 23:42:50</td>\n",
              "      <td>1562223870467538944</td>\n",
              "      <td>hyang_wisnu kemkominfo bssn_ri platejohnny jo...</td>\n",
              "      <td>0</td>\n",
              "      <td>1</td>\n",
              "      <td>NaN</td>\n",
              "      <td>0</td>\n",
              "      <td>0</td>\n",
              "    </tr>\n",
              "    <tr>\n",
              "      <th>1</th>\n",
              "      <td>2022-08-23 23:41:59</td>\n",
              "      <td>1562223659535986944</td>\n",
              "      <td>hyang_wisnu data pln dan indihome bocor ini y...</td>\n",
              "      <td>16</td>\n",
              "      <td>0</td>\n",
              "      <td>NaN</td>\n",
              "      <td>-1</td>\n",
              "      <td>-1</td>\n",
              "    </tr>\n",
              "    <tr>\n",
              "      <th>2</th>\n",
              "      <td>2022-08-23 23:41:31</td>\n",
              "      <td>1562223542468775936</td>\n",
              "      <td>terkait kebocoran data pln dan indihome bocor ...</td>\n",
              "      <td>0</td>\n",
              "      <td>0</td>\n",
              "      <td>NaN</td>\n",
              "      <td>-2</td>\n",
              "      <td>-1</td>\n",
              "    </tr>\n",
              "    <tr>\n",
              "      <th>3</th>\n",
              "      <td>2022-08-23 22:58:46</td>\n",
              "      <td>1562212781600177920</td>\n",
              "      <td>mmc_idn2 26 juta data pribadi diretas negara ...</td>\n",
              "      <td>57</td>\n",
              "      <td>0</td>\n",
              "      <td>NaN</td>\n",
              "      <td>-1</td>\n",
              "      <td>-1</td>\n",
              "    </tr>\n",
              "    <tr>\n",
              "      <th>4</th>\n",
              "      <td>2022-08-23 22:57:33</td>\n",
              "      <td>1562212477093289984</td>\n",
              "      <td>republikaonline data pribadi pelanggan pt pln...</td>\n",
              "      <td>2</td>\n",
              "      <td>0</td>\n",
              "      <td>NaN</td>\n",
              "      <td>-2</td>\n",
              "      <td>-1</td>\n",
              "    </tr>\n",
              "    <tr>\n",
              "      <th>...</th>\n",
              "      <td>...</td>\n",
              "      <td>...</td>\n",
              "      <td>...</td>\n",
              "      <td>...</td>\n",
              "      <td>...</td>\n",
              "      <td>...</td>\n",
              "      <td>...</td>\n",
              "      <td>...</td>\n",
              "    </tr>\n",
              "    <tr>\n",
              "      <th>4816</th>\n",
              "      <td>2022-08-21 02:43:37</td>\n",
              "      <td>1561182202943382016</td>\n",
              "      <td>myname_idontk sepe biasa data privasi berbaga...</td>\n",
              "      <td>1</td>\n",
              "      <td>0</td>\n",
              "      <td>NaN</td>\n",
              "      <td>-1</td>\n",
              "      <td>-1</td>\n",
              "    </tr>\n",
              "    <tr>\n",
              "      <th>4817</th>\n",
              "      <td>2022-08-21 02:35:17</td>\n",
              "      <td>1561180106709577984</td>\n",
              "      <td>tilehopper itsdioandn isp logging data browsi...</td>\n",
              "      <td>7</td>\n",
              "      <td>0</td>\n",
              "      <td>NaN</td>\n",
              "      <td>0</td>\n",
              "      <td>0</td>\n",
              "    </tr>\n",
              "    <tr>\n",
              "      <th>4818</th>\n",
              "      <td>2022-08-21 02:33:21</td>\n",
              "      <td>1561179619902258944</td>\n",
              "      <td>tilehopper itsdioandn isp logging data browsi...</td>\n",
              "      <td>7</td>\n",
              "      <td>0</td>\n",
              "      <td>NaN</td>\n",
              "      <td>0</td>\n",
              "      <td>0</td>\n",
              "    </tr>\n",
              "    <tr>\n",
              "      <th>4819</th>\n",
              "      <td>2022-08-21 02:16:12</td>\n",
              "      <td>1561175305338768896</td>\n",
              "      <td>itsdioandn isp logging data browsing customer...</td>\n",
              "      <td>7</td>\n",
              "      <td>20</td>\n",
              "      <td>NaN</td>\n",
              "      <td>0</td>\n",
              "      <td>0</td>\n",
              "    </tr>\n",
              "    <tr>\n",
              "      <th>4820</th>\n",
              "      <td>2022-08-20 19:16:24</td>\n",
              "      <td>1561069658932796928</td>\n",
              "      <td>sepe biasa data privasi berbagai platform yang...</td>\n",
              "      <td>1</td>\n",
              "      <td>2</td>\n",
              "      <td>NaN</td>\n",
              "      <td>-1</td>\n",
              "      <td>-1</td>\n",
              "    </tr>\n",
              "  </tbody>\n",
              "</table>\n",
              "<p>4821 rows × 8 columns</p>\n",
              "</div>"
            ],
            "text/plain": [
              "                 tanggal                   id  \\\n",
              "0    2022-08-23 23:42:50  1562223870467538944   \n",
              "1    2022-08-23 23:41:59  1562223659535986944   \n",
              "2    2022-08-23 23:41:31  1562223542468775936   \n",
              "3    2022-08-23 22:58:46  1562212781600177920   \n",
              "4    2022-08-23 22:57:33  1562212477093289984   \n",
              "...                  ...                  ...   \n",
              "4816 2022-08-21 02:43:37  1561182202943382016   \n",
              "4817 2022-08-21 02:35:17  1561180106709577984   \n",
              "4818 2022-08-21 02:33:21  1561179619902258944   \n",
              "4819 2022-08-21 02:16:12  1561175305338768896   \n",
              "4820 2022-08-20 19:16:24  1561069658932796928   \n",
              "\n",
              "                                                   text  rt  fav place  \\\n",
              "0      hyang_wisnu kemkominfo bssn_ri platejohnny jo...   0    1   NaN   \n",
              "1      hyang_wisnu data pln dan indihome bocor ini y...  16    0   NaN   \n",
              "2     terkait kebocoran data pln dan indihome bocor ...   0    0   NaN   \n",
              "3      mmc_idn2 26 juta data pribadi diretas negara ...  57    0   NaN   \n",
              "4      republikaonline data pribadi pelanggan pt pln...   2    0   NaN   \n",
              "...                                                 ...  ..  ...   ...   \n",
              "4816   myname_idontk sepe biasa data privasi berbaga...   1    0   NaN   \n",
              "4817   tilehopper itsdioandn isp logging data browsi...   7    0   NaN   \n",
              "4818   tilehopper itsdioandn isp logging data browsi...   7    0   NaN   \n",
              "4819   itsdioandn isp logging data browsing customer...   7   20   NaN   \n",
              "4820  sepe biasa data privasi berbagai platform yang...   1    2   NaN   \n",
              "\n",
              "      sent_score  sentiment  \n",
              "0              0          0  \n",
              "1             -1         -1  \n",
              "2             -2         -1  \n",
              "3             -1         -1  \n",
              "4             -2         -1  \n",
              "...          ...        ...  \n",
              "4816          -1         -1  \n",
              "4817           0          0  \n",
              "4818           0          0  \n",
              "4819           0          0  \n",
              "4820          -1         -1  \n",
              "\n",
              "[4821 rows x 8 columns]"
            ]
          },
          "execution_count": 11,
          "metadata": {},
          "output_type": "execute_result"
        }
      ],
      "source": [
        "data"
      ]
    },
    {
      "cell_type": "code",
      "execution_count": 12,
      "metadata": {
        "colab": {
          "base_uri": "https://localhost:8080/"
        },
        "id": "QONEfCqp2EVg",
        "outputId": "e786ec59-1696-4b33-87c5-c366bf8f59fc"
      },
      "outputs": [
        {
          "data": {
            "text/plain": [
              "-1    4243\n",
              " 0     528\n",
              " 1      50\n",
              "Name: sentiment, dtype: int64"
            ]
          },
          "execution_count": 12,
          "metadata": {},
          "output_type": "execute_result"
        }
      ],
      "source": [
        "data.sentiment.value_counts()"
      ]
    },
    {
      "cell_type": "code",
      "execution_count": 15,
      "metadata": {
        "id": "rKvDWj6Y2I-U"
      },
      "outputs": [],
      "source": [
        "data.to_csv('Sentiment_Data_Indihome.csv',index=False)"
      ]
    },
    {
      "cell_type": "markdown",
      "metadata": {
        "id": "1fEq-JfY2PDZ"
      },
      "source": [
        "Save data yang sudah dilakukan text proprocessing yang selanjutnya akan dilakukan modeling Deep Learning"
      ]
    }
  ],
  "metadata": {
    "colab": {
      "collapsed_sections": [],
      "name": "Crawling_Twiter.ipynb",
      "provenance": []
    },
    "kernelspec": {
      "display_name": "Python 3.8.8 ('base')",
      "language": "python",
      "name": "python3"
    },
    "language_info": {
      "codemirror_mode": {
        "name": "ipython",
        "version": 3
      },
      "file_extension": ".py",
      "mimetype": "text/x-python",
      "name": "python",
      "nbconvert_exporter": "python",
      "pygments_lexer": "ipython3",
      "version": "3.8.8"
    },
    "vscode": {
      "interpreter": {
        "hash": "8137ae19026218f667d61d1dabcae05e90bfb94cb16170a1e3764ed8c15818ed"
      }
    }
  },
  "nbformat": 4,
  "nbformat_minor": 0
}
